{
 "cells": [
  {
   "cell_type": "code",
   "execution_count": 387,
   "metadata": {},
   "outputs": [],
   "source": [
    "import numpy as np\n",
    "from uncertainties import ufloat,umath\n",
    "from matplotlib.patches import Ellipse\n",
    "\n",
    "import matplotlib.pyplot as plt"
   ]
  },
  {
   "cell_type": "markdown",
   "metadata": {},
   "source": [
    "# Estimation of Errors in Ellipse Fitting"
   ]
  },
  {
   "cell_type": "markdown",
   "metadata": {},
   "source": [
    "## Ellipse Fitting\n",
    "An ellipse is a special case of a general conic section described by\n",
    "\n",
    "$$F(x,y) = ax^2 + bxy + cy^2 + dx + ey + f = 0$$\n",
    "\n",
    "with the constraint $b^2 - 4ac < 0$."
   ]
  },
  {
   "cell_type": "code",
   "execution_count": 388,
   "metadata": {},
   "outputs": [],
   "source": [
    "# generating a noisy ellipse\n",
    "def generate(a,b,center=(0,0),n=100,phi=0,weight=0.2):\n",
    "    t = np.linspace(0,2*np.pi,n)[:-1]\n",
    "    x = a*np.cos(t)*np.cos(phi) - b*np.sin(t)*np.sin(phi) + center[0]\n",
    "    y = a*np.cos(t)*np.sin(phi) + b*np.sin(t)*np.cos(phi) + center[1]\n",
    "    x += np.random.randn(len(t))*weight\n",
    "    y += np.random.randn(len(t))*weight\n",
    "    return x,y"
   ]
  },
  {
   "cell_type": "code",
   "execution_count": 389,
   "metadata": {},
   "outputs": [
    {
     "name": "stdout",
     "output_type": "stream",
     "text": [
      "2.607823991300505 1.4667002536011795 [2.7913013  2.73931612] 1.9007356427967286\n"
     ]
    },
    {
     "data": {
      "image/png": "[encoded data removed]",
      "text/plain": [
       "<Figure size 432x288 with 1 Axes>"
      ]
     },
     "metadata": {
      "needs_background": "light"
     },
     "output_type": "display_data"
    }
   ],
   "source": [
    "# generate a noisy ellipse with random parameters\n",
    "minor = np.random.uniform(1,5)\n",
    "major = np.random.uniform(minor,8)\n",
    "center = np.random.uniform(-5,5,size=2)\n",
    "angle = np.random.uniform(0,np.pi)\n",
    "print(major,minor,center,angle)\n",
    "\n",
    "x,y = generate(minor,major,center,100,angle)\n",
    "\n",
    "# plot of generated ellipse\n",
    "fig,ax = plt.subplots()\n",
    "ax.plot(x,y,'xr',label='Data')\n",
    "ax.legend()\n",
    "ax.set_xlabel('x')\n",
    "ax.set_ylabel('y')\n",
    "ax.set_aspect('equal')\n",
    "plt.show()"
   ]
  },
  {
   "cell_type": "markdown",
   "metadata": {},
   "source": [
    "Fitzgibbon, Pilu, & Fisher (1996) proposed that the ellipse-specific fitting problem can be reformulated as \n",
    "\n",
    "$$\\min_{\\bf{a}} \\lVert{\\bf{D}a}\\rVert^2 \\text{ subject to } \\bf{a}^T\\bf{Ca} = 1$$\n",
    "\n",
    "where $\\bf{a} = \\begin{pmatrix}a,b,c,d,e,f\\end{pmatrix}^T$, the design matrix $\\bf{D}$ representing the least squares minimization \n",
    "\n",
    "$$\\bf{D} = \\begin{pmatrix}x_1^2 & x_1y_1 & y_1^2 & x_1 & y_1 & 1 \\\\ \\vdots & \\vdots & \\vdots & \\vdots & \\vdots & \\vdots \\\\ x_i^2 & x_iy_i & y_i^2 & x_i & y_i & 1 \\\\ \\vdots & \\vdots & \\vdots & \\vdots & \\vdots & \\vdots \\\\ x_N^2 & x_Ny_N & y_N^2 & x_N & y_N & 1\\end{pmatrix}$$\n",
    "and the constraint matrix $\\bf{C}$ \n",
    "\n",
    "$$\\bf{C} = \\begin{pmatrix}0 & 0 & 2 & 0 & 0 & 0 \\\\ 0 & -1 & 0 & 0 & 0 & 0 \\\\ 2 & 0 & 0 & 0 & 0 & 0 \\\\ 0 & 0 & 0 & 0 & 0 & 0 \\\\ 0 & 0 & 0 & 0 & 0 & 0 \\\\ 0 & 0 & 0 & 0 & 0 & 0\\end{pmatrix}$$\n",
    "\n",
    "The minimization problem can be reduced by using Lagrange multipliers, giving the two important relations,\n",
    "\n",
    "$$\\begin{align*}\n",
    "\\bf{Sa} &= \\lambda \\bf{Ca}\\\\\n",
    "\\bf{a}^T\\bf{Ca} &= 1\n",
    "\\end{align*}$$\n",
    "\n",
    "where $\\bf{S} = \\bf{D}^T\\bf{D}$ or $S_{ab} = \\sum_{i=1}^N x_i^ay_i^b$. There will be 6 solutions for $\\lambda$, and the minimal positive value corresponds to the ellipse solution. \n",
    "\n",
    "Halir & Flusser (1998) improves and numerically simplifies the method further. First, the design matrix $\\bf{D}$ is decomposed as $\\bf{D} = (\\bf{D}_1 | \\bf{D}_2)$ where $\\bf{D}_1$ and $\\bf{D}_2$ are the quadratic and linear parts respectively, expressed as \n",
    "$$\\bf{D}_1 = \\begin{pmatrix}x_1^2 & x_1y_1 & y_1^2 \\\\ \\vdots & \\vdots & \\vdots \\\\ x_i^2 & x_iy_i & y_i^2 \\\\\\vdots & \\vdots & \\vdots \\\\ x_N^2 & x_Ny_N & y_N^2\\end{pmatrix}, \\quad\\bf{D}_2 = \\begin{pmatrix}x_1 & y_1 & 1 \\\\ \\vdots & \\vdots & \\vdots \\\\ x_i & y_i & 1 \\\\\\vdots & \\vdots & \\vdots \\\\ x_N & y_N & 1\\end{pmatrix}$$\n",
    "\n",
    "The scatter matrix can also be decomposed as \n",
    "\n",
    "$$\\bf{S} = \\left(\\begin{array}{c|c}\\bf{S}_1 & \\bf{S}_2 \\\\\\hline \\bf{S}_2^T & \\bf{S}_3\\end{array}\\right) \\quad\\text{where}\\quad \\begin{matrix}\\bf{S}_1 = \\bf{D}_1^T\\bf{D}_1 \\\\ \\bf{S}_2 = \\bf{D}_1^T\\bf{D}_2 \\\\ \\bf{S}_3 = \\bf{D}_2^T\\bf{D}_2\\end{matrix}$$\n",
    "\n",
    "Similarly, the constraint matrix and vector of coefficients can be split as \n",
    "\n",
    "$$\\begin{align*}\n",
    "\\bf{C} &= \\left(\\begin{array}{c|c}\\bf{C}_1 & \\bf{0} \\\\\\hline \\bf{0} & \\bf{0}\\end{array}\\right) \\quad\\text{where}\\quad \\bf{C}_1 = \\begin{pmatrix}0 & 0 & 2 \\\\ 0 & -1 & 0 \\\\ 2 & 0 & 0\\end{pmatrix} \\\\\n",
    "\\bf{a} &= \\begin{pmatrix}\\bf{a}_1 \\\\\\hline \\bf{a}_2 \\end{pmatrix} \\quad\\text{where}\\quad \\bf{a}_1 = \\begin{pmatrix}a \\\\ b \\\\ c\\end{pmatrix}, \\bf{a}_2 = \\begin{pmatrix}d \\\\ e \\\\ f\\end{pmatrix} \n",
    "\\end{align*}$$\n",
    "\n",
    "Rewriting the first relation, \n",
    "\n",
    "$$\\begin{align*}\n",
    "\\bf{S}_1\\bf{a}_1 + \\bf{S}_2\\bf{a}_2 &= \\lambda\\bf{C}_1\\bf{a}_1 \\\\\n",
    "\\bf{S}_2^T\\bf{a}_1 + \\bf{S}_3\\bf{S}_2 &= \\bf{0}\n",
    "\\end{align*}$$\n",
    "\n",
    "from which we can obtain that $\\bf{a}_2 = -\\bf{S}_3^{-1}\\bf{S}_2^T\\bf{a}_1$. The second relation on the other hand would simply be $\\bf{a}_1^T\\bf{C}_1\\bf{a}_1 = 1$, which gives the final set of equations\n",
    "\n",
    "$$\\begin{align*}\n",
    "\\bf{Ma}_1 &= \\lambda\\bf{a}_1 \\\\\n",
    "\\bf{a}_1^T\\bf{C}_1\\bf{a}_1 &= 1 \\\\\n",
    "\\bf{a}_2 &= -\\bf{S}_3^{-1}\\bf{S}_2^T\\bf{a}_1 \\\\\n",
    "\\bf{a} &= \\begin{pmatrix}\\bf{a}_1 \\\\\\hline \\bf{a}_2\\end{pmatrix}\n",
    "\\end{align*}$$\n",
    "\n",
    "where $\\bf{M} = \\bf{C}_1^{-1} (\\bf{S}_1 - \\bf{S}_2\\bf{S}_3^{-1}\\bf{S}_2^T)$ is the reduced scatter matrix. The minimal non-negative eigenvalue $\\lambda$ would give the appropriate eigenvector $\\bf{a}_1$ of matrix $\\bf{M}$, for which $\\bf{a}_2$ and consequently the best fit parameters $\\bf{a}$ can be obtained."
   ]
  },
  {
   "cell_type": "code",
   "execution_count": 390,
   "metadata": {},
   "outputs": [],
   "source": [
    "# fitting an ellipse \n",
    "# based on Fitzgibbon, Pilu, & Fisher (1996) and Halir & Flusser (1998)\n",
    "def fit(x,y):\n",
    "    D1 = np.vstack([x**2,x*y,y**2]).T\n",
    "    D2 = np.vstack([x,y,np.ones_like(x)]).T\n",
    "    S1,S2,S3 = D1.T @ D1, D1.T @ D2, D2.T @ D2\n",
    "    C1 = np.array([[0,0,2],[0,-1,0],[2,0,0]])\n",
    "    M = np.linalg.inv(C1) @ (S1 - S2 @ np.linalg.inv(S3) @ S2.T)\n",
    "    vec = np.linalg.eig(M)[1]\n",
    "    cond = 4*(vec[0]*vec[2]) - vec[1]**2\n",
    "    a1 = vec[:,np.nonzero(cond > 0)[0]]\n",
    "    return np.vstack([a1,np.linalg.inv(-S3) @ S2.T @ a1]).flatten()"
   ]
  },
  {
   "cell_type": "code",
   "execution_count": 391,
   "metadata": {},
   "outputs": [
    {
     "data": {
      "text/plain": [
       "array([-0.38132347,  0.35651649, -0.8529293 ,  1.1310537 ,  3.72028399,\n",
       "       -4.50970767])"
      ]
     },
     "execution_count": 391,
     "metadata": {},
     "output_type": "execute_result"
    }
   ],
   "source": [
    "params = fit(x,y)\n",
    "params"
   ]
  },
  {
   "cell_type": "markdown",
   "metadata": {},
   "source": [
    "## Estimation of Errors\n",
    "To estimate the error for the fit parameters $\\bf{a}$, we start by defining the auxilary dataset $z_{ij}$\n",
    "$$z_{ij} = \\begin{pmatrix}x_j^2 & x_jy_j & y_j^2 & x_j & y_j & \\alpha_j\\end{pmatrix}^T$$\n",
    "where $\\alpha_j = 1$. We then obtain the goodness of fit of the data using the chi-squared and equating it to the degrees of freedom i.e. $N-6$, giving \n",
    "$$\\chi^2 = \\sum_{j=1}^N \\frac{\\left(\\sum_{i=1}^6 a_iz_{ij} - 1\\right)^2}{\\sigma_j^2} = N - 6$$\n",
    "where $\\sigma_j$ is the uncertainty for data point $(x_j,y_j)$. The best fit parameters $\\bf{a}$ will minimize the distribution. After derivation based on McDonald, 2014, the uncertainties for the parameters can be obtained using\n",
    "$$\\sigma_i = \\sqrt{\\frac{\\sum_{j=1}^N \\left(\\sum_{k=1}^6 a_kz_{kj} - 1\\right)^2}{(N-6)\\sum_{j=1}^N z_{ij}^2\n",
    "}}$$"
   ]
  },
  {
   "cell_type": "code",
   "execution_count": 392,
   "metadata": {},
   "outputs": [],
   "source": [
    "# estimating the errors using chi-squared\n",
    "def errors(x,y,coeffs):\n",
    "    z = np.vstack((x**2,x*y,y**2,x,y,np.ones_like(x)))\n",
    "    numerator = np.sum(((coeffs @ z)-1)**2)\n",
    "    denominator = (len(x)-6)*np.sum(z**2,axis=1)\n",
    "    unc = np.sqrt(numerator/denominator)\n",
    "    return tuple(ufloat(i,j) for i,j in zip(coeffs,unc))"
   ]
  },
  {
   "cell_type": "code",
   "execution_count": 393,
   "metadata": {},
   "outputs": [
    {
     "data": {
      "text/plain": [
       "(-0.3813234733723383+/-0.007463327642510613,\n",
       " 0.35651649404035146+/-0.010273363681267213,\n",
       " -0.852929304299267+/-0.009995413138221472,\n",
       " 1.1310537012738004+/-0.03402667857190656,\n",
       " 3.7202839927133007+/-0.03735161370496613,\n",
       " -4.5097076661287+/-0.11284004340463694)"
      ]
     },
     "execution_count": 393,
     "metadata": {},
     "output_type": "execute_result"
    }
   ],
   "source": [
    "params = errors(x,y,params)\n",
    "params"
   ]
  },
  {
   "cell_type": "markdown",
   "metadata": {},
   "source": [
    "## Converting Fit Coefficients to Ellipse Parameters\n",
    "The fit parameters obtained from the fit (as well as their estimated errors) correspond to the polynomial parameters. Therefore, they have to be converted into the usual ellipse parameters i.e. center coordinates, semi major and semi minor axes, and the rotation angle, in order for the result to have a direct physical significance. This gives the equation of the ellipse as\n",
    "$$\\frac{1}{a^2} \\left[(x-x_0) \\cos{\\phi} + (y-y_0)\\sin{\\phi}\\right]^2 + \\frac{1}{b^2} \\left[(x-x_0) \\sin{\\phi} - (y-y_0)\\cos{\\phi}\\right]^2 = 1$$\n",
    "or parametrically,\n",
    "$$\\left.\\begin{matrix}x = x_0 + a\\cos{t}\\cos{\\phi} - b\\sin{t}\\sin{\\phi} \\\\ y = y_0 + a\\cos{t}\\sin{\\phi} + b\\sin{t}\\cos{\\phi}\\end{matrix}\\right\\} 0 \\leq t \\leq 2\\pi$$\n",
    "where $(x_0,y_0)$ is the center of the ellipse, $a$ is the semi major axis, $b$ is the semi minor axis, and $\\phi$ is the rotation angle of the ellipse's major axis with respect to the horizontal (counterclockwise). The errors for these parameters are propagated using the `uncertainties` package. "
   ]
  },
  {
   "cell_type": "code",
   "execution_count": 394,
   "metadata": {},
   "outputs": [],
   "source": [
    "# converting the coefficients to ellipse parameters\n",
    "def convert(coeffs):\n",
    "    a,b,c,d,e,f = coeffs\n",
    "    b /= 2\n",
    "    d /= 2\n",
    "    e /= 2\n",
    "    x0 = (c*d - b*e) / (b**2 - a*c)\n",
    "    y0 = (a*e - b*d) / (b**2 - a*c)\n",
    "    center = (x0, y0)\n",
    "    numerator = 2 * (a*e**2 + c*d**2 + f*b**2 - 2*b*d*e - a*c*f)\n",
    "    denominator1 = (b*b-a*c)*((c-a)*umath.sqrt(1+4*b*b/((a-c)*(a-c)))-(c+a))\n",
    "    denominator2 = (b*b-a*c)*((a-c)*umath.sqrt(1+4*b*b/((a-c)*(a-c)))-(c+a))\n",
    "    major = umath.sqrt(numerator/denominator1) if numerator/denominator1 > 0 else 0\n",
    "    minor = umath.sqrt(numerator/denominator2) if numerator/denominator2 > 0 else 0\n",
    "    phi = .5*umath.atan((2*b)/(a-c))\n",
    "    major, minor, phi = (major, minor, phi) if major > minor else (minor, major, np.pi/2+phi)\n",
    "    return center, major, minor, phi"
   ]
  },
  {
   "cell_type": "code",
   "execution_count": 395,
   "metadata": {},
   "outputs": [
    {
     "data": {
      "text/plain": [
       "((2.773541669303805+/-0.09466162130269165,\n",
       "  2.760543764290714+/-0.05361930769043788),\n",
       " 2.61210485340965+/-0.14555611751219827,\n",
       " 1.550347820215571+/-0.07933262615860551,\n",
       " 0.32365321552125015+/-0.009408231946422919)"
      ]
     },
     "execution_count": 395,
     "metadata": {},
     "output_type": "execute_result"
    }
   ],
   "source": [
    "center, a, b, phi = convert(params)\n",
    "center, a, b, phi"
   ]
  },
  {
   "cell_type": "code",
   "execution_count": 396,
   "metadata": {},
   "outputs": [],
   "source": [
    "# generating fit ellipse line\n",
    "def line(coeffs,n=100):\n",
    "    t = np.linspace(0,2*np.pi,n)\n",
    "    center,major,minor,phi = convert(coeffs)\n",
    "    x = major*np.cos(t)*np.cos(phi) - minor*np.sin(t)*np.sin(phi) + center[0]\n",
    "    y = major*np.cos(t)*np.sin(phi) + minor*np.sin(t)*np.cos(phi) + center[1]\n",
    "    return x,y\n",
    "\n",
    "# alternative using matplotlib artists\n",
    "def artist(coeffs,*args,**kwargs):\n",
    "    center,major,minor,phi = convert(coeffs)\n",
    "    return Ellipse(xy=(center[0],center[1]),width=2*major,height=2*minor,\n",
    "                     angle=np.rad2deg(phi),*args,**kwargs)"
   ]
  },
  {
   "cell_type": "code",
   "execution_count": 397,
   "metadata": {},
   "outputs": [
    {
     "data": {
      "image/png": "[encoded data removed]",
      "text/plain": [
       "<Figure size 432x288 with 1 Axes>"
      ]
     },
     "metadata": {
      "needs_background": "light"
     },
     "output_type": "display_data"
    }
   ],
   "source": [
    "# plot of fit\n",
    "fig,ax = plt.subplots()\n",
    "ax.plot(x,y,'xr',label='Data')\n",
    "ax.plot(*line([i.n for i in params]),'--b',lw=1,label='Fit')\n",
    "ax.legend()\n",
    "ax.set_xlabel('x')\n",
    "ax.set_ylabel('y')\n",
    "ax.set_aspect('equal')\n",
    "plt.show()"
   ]
  },
  {
   "cell_type": "markdown",
   "metadata": {},
   "source": [
    "## Confidence interval/area\n",
    "\n",
    "To visualize the accuracy of the fit, the region in which data points may validly lie within a given range of statistical confidence has to be establish, which is referred to as the confidence interval/area. This explanation is based on O’Leary & Zsombor-Murray, 2004.\n",
    "\n",
    "The singular value $\\sigma$ is the two-norm distance between the fit and the original data \n",
    "$$\\sigma = \\lVert\\bf{r}\\rVert_2 = \\sqrt{\\sum_{i=1}^N r_i^2}$$\n",
    "with the fit having a residual standard deviation of $\\delta_r = \\sigma/\\sqrt{N}$. The fitting procedure shown earlier gives a mean residual $\\bar{r}$ of zero. Assuming the residual has a normal distribution, the conic equation can be rewritten as \n",
    "\n",
    "$$ax^2+bxy+cy^2+dx+ey+f = \\aleph(0,\\delta_r)$$ \n",
    "\n",
    "Note that $\\aleph$ here refers to the normal distribution. In usual applications, the confidence interval is defined as a multiple $\\mu$ of the standard deviation. This gives an expression for the confidence interval for the ellipse fit as\n",
    "$$ax^2+bxy+cy^2+dx+ey+f \\pm \\frac{\\mu\\sigma}{\\sqrt{N}} = 0$$"
   ]
  },
  {
   "cell_type": "code",
   "execution_count": 398,
   "metadata": {},
   "outputs": [],
   "source": [
    "# obtaining the confidence interval/area for ellipse fit\n",
    "def confidence_area(x,y,coeffs,f=1): # f here is the multiple of sigma\n",
    "    c = coeffs\n",
    "    res = c[0]*x**2 + c[1]*x*y + c[2]*y**2 + c[3]*x + c[4]*y + c[5]\n",
    "    c_up = np.array([c[0],c[1],c[2],c[3],c[4],c[5] + f*np.std(res)])\n",
    "    c_do = np.array([c[0],c[1],c[2],c[3],c[4],c[5] - f*np.std(res)])\n",
    "    if convert(c_do) > convert(c_up):\n",
    "        c_do, c_up = c_up,c_do\n",
    "    return c_up,c_do"
   ]
  },
  {
   "cell_type": "code",
   "execution_count": 399,
   "metadata": {},
   "outputs": [
    {
     "data": {
      "text/plain": [
       "(array([-0.38132347,  0.35651649, -0.8529293 ,  1.1310537 ,  3.72028399,\n",
       "        -3.65143635]),\n",
       " array([-0.38132347,  0.35651649, -0.8529293 ,  1.1310537 ,  3.72028399,\n",
       "        -5.36797898]))"
      ]
     },
     "execution_count": 399,
     "metadata": {},
     "output_type": "execute_result"
    }
   ],
   "source": [
    "c_up, c_do = confidence_area(x,y,[i.n for i in params],f=2)\n",
    "c_up, c_do"
   ]
  },
  {
   "cell_type": "code",
   "execution_count": 400,
   "metadata": {},
   "outputs": [
    {
     "data": {
      "image/png": "[encoded data removed]",
      "text/plain": [
       "<Figure size 432x288 with 1 Axes>"
      ]
     },
     "metadata": {
      "needs_background": "light"
     },
     "output_type": "display_data"
    }
   ],
   "source": [
    "# plot of fit and confidence area\n",
    "fig,ax = plt.subplots()\n",
    "ax.plot(x,y,'xr',label='Data')\n",
    "ax.plot(*line([i.n for i in params]),'--b',lw=1,label='Fit')\n",
    "ax.add_patch(artist(c_up,ec='none',fc='b',alpha=0.2,label=r'2$\\sigma$'))\n",
    "ax.add_patch(artist(c_do,ec='none',fc='white'))\n",
    "ax.legend()\n",
    "ax.set_xlabel('x')\n",
    "ax.set_ylabel('y')\n",
    "ax.set_aspect('equal')\n",
    "plt.show()"
   ]
  }
 ],
 "metadata": {
  "kernelspec": {
   "display_name": "Python 3.10.4 64-bit",
   "language": "python",
   "name": "python3"
  },
  "language_info": {
   "codemirror_mode": {
    "name": "ipython",
    "version": 3
   },
   "file_extension": ".py",
   "mimetype": "text/x-python",
   "name": "python",
   "nbconvert_exporter": "python",
   "pygments_lexer": "ipython3",
   "version": "3.10.4"
  },
  "orig_nbformat": 4,
  "vscode": {
   "interpreter": {
    "hash": "26de051ba29f2982a8de78e945f0abaf191376122a1563185a90213a26c5da77"
   }
  }
 },
 "nbformat": 4,
 "nbformat_minor": 2
}
